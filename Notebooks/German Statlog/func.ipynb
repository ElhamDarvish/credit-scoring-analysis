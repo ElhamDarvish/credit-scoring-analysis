{
 "cells": [
  {
   "cell_type": "code",
   "execution_count": 3,
   "id": "ab4d109b",
   "metadata": {},
   "outputs": [],
   "source": [
    "def measures(model_name, y_test, y_pred):\n",
    "    accuracy = round(accuracy_score(y_test, y_pred), 4)\n",
    "    precision = round(precision_score(y_test, y_pred), 4)\n",
    "    recall = round(recall_score(y_test, y_pred), 4)\n",
    "    f1 = round(f1_score(y_test, y_pred), 4)\n",
    "    cohen_kappa = round(cohen_kappa_score(y_test, y_pred), 4)\n",
    "\n",
    "    print(f\"{model_name} Accuracy: {accuracy}\")\n",
    "    print(f\"{model_name} Precision: {precision}\")\n",
    "    print(f\"{model_name} Recall: {recall}\")\n",
    "    print(f\"{model_name} F1: {f1}\")\n",
    "    print(f\"{model_name} Cohen kappa: {cohen_kappa}\")\n",
    "\n",
    "    return [accuracy, precision, recall, f1, cohen_kappa]"
   ]
  },
  {
   "cell_type": "code",
   "execution_count": 4,
   "id": "aba2d124",
   "metadata": {},
   "outputs": [],
   "source": [
    "def evaluation_plot(model, x_test, y_test, y_pred):\n",
    "    \n",
    "    # Confusion Matrix\n",
    "    y_pred = model.predict(x_test)\n",
    "    cm = confusion_matrix(y_test, y_pred, normalize='true')\n",
    "    disp = ConfusionMatrixDisplay(confusion_matrix=cm)\n",
    "    disp.plot()\n",
    "    plt.grid(None)"
   ]
  },
  {
   "cell_type": "code",
   "execution_count": 5,
   "id": "d325241f",
   "metadata": {},
   "outputs": [],
   "source": [
    "def result(x_test, shap_val, modelname):\n",
    "    result_matrix = np.zeros((len(x_test), len(x_test.columns)))\n",
    "\n",
    "    for i in range(len(x_test)):\n",
    "        for j in range(len(x_test.columns)):\n",
    "            result_matrix[i][j] = shap_val[i][j]\n",
    "            file_name = f'German{modelname}.csv'       \n",
    "            df = pd.DataFrame(result_matrix, columns=x_test.columns)\n",
    "            df.to_csv(\"\"+ file_name)"
   ]
  }
 ],
 "metadata": {
  "kernelspec": {
   "display_name": "Python 3 (ipykernel)",
   "language": "python",
   "name": "python3"
  },
  "language_info": {
   "codemirror_mode": {
    "name": "ipython",
    "version": 3
   },
   "file_extension": ".py",
   "mimetype": "text/x-python",
   "name": "python",
   "nbconvert_exporter": "python",
   "pygments_lexer": "ipython3",
   "version": "3.12.4"
  }
 },
 "nbformat": 4,
 "nbformat_minor": 5
}
